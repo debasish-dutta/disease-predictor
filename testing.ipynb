{
 "cells": [
  {
   "cell_type": "code",
   "execution_count": 1,
   "metadata": {},
   "outputs": [],
   "source": [
    "import pandas as pd\n",
    "import numpy as np\n",
    "import pickle"
   ]
  },
  {
   "cell_type": "code",
   "execution_count": 16,
   "metadata": {},
   "outputs": [],
   "source": [
    "from sklearn import preprocessing\n",
    "scaler=preprocessing.StandardScaler()"
   ]
  },
  {
   "cell_type": "code",
   "execution_count": 2,
   "metadata": {},
   "outputs": [],
   "source": [
    "#bCancer = 'bCancer_model.pkl'\n",
    "heart = 'models/heart_disease_model1.pkl'"
   ]
  },
  {
   "cell_type": "code",
   "execution_count": 4,
   "metadata": {},
   "outputs": [],
   "source": [
    "#cancer_model = pickle.load(open(bCancer, 'rb'))\n",
    "heart_model = pickle.load(open(heart, 'rb'))"
   ]
  },
  {
   "cell_type": "markdown",
   "metadata": {},
   "source": [
    "# Breast Cancer"
   ]
  },
  {
   "cell_type": "code",
   "execution_count": 4,
   "metadata": {},
   "outputs": [],
   "source": [
    "concave_points_mean = 0.3\n",
    "area_mean = 1001\n",
    "radius_mean = 19\n",
    "perimeter_mean = 122.8\n",
    "concavity_mean = 0.7\n",
    "cancer_predictions = cancer_model.predict(np.array([concave_points_mean, area_mean, radius_mean, perimeter_mean,\n",
    "       concavity_mean]).reshape(1, -1))"
   ]
  },
  {
   "cell_type": "code",
   "execution_count": 5,
   "metadata": {},
   "outputs": [
    {
     "name": "stdout",
     "output_type": "stream",
     "text": [
      "1\n"
     ]
    }
   ],
   "source": [
    "print(cancer_predictions[0])"
   ]
  },
  {
   "cell_type": "markdown",
   "metadata": {},
   "source": [
    "# Heart "
   ]
  },
  {
   "cell_type": "code",
   "execution_count": 5,
   "metadata": {},
   "outputs": [],
   "source": [
    "age = 42\n",
    "sex = 1\n",
    "cp = 1\n",
    "trestbps = 120\n",
    "chol = 0\n",
    "fbs = 1\n",
    "restecg = 162\n",
    "thalach = 0\n",
    "exang = 0\n",
    "oldpeak = 0.0\n",
    "slope = 2\n",
    "ca = 0\n",
    "thal = 2\n",
    "\n",
    "heart_predictions = heart_model.predict(np.array([age,sex,cp,trestbps,chol,fbs,restecg,thalach,exang,oldpeak,slope,ca,thal]\n",
    "                                                ).reshape(1, -1))"
   ]
  },
  {
   "cell_type": "code",
   "execution_count": 6,
   "metadata": {},
   "outputs": [
    {
     "name": "stdout",
     "output_type": "stream",
     "text": [
      "1\n"
     ]
    }
   ],
   "source": [
    "print(heart_predictions[0])"
   ]
  },
  {
   "cell_type": "code",
   "execution_count": 32,
   "metadata": {},
   "outputs": [],
   "source": [
    "diabetes = '../diabetes/diabetes_model.pkl'\n",
    "liver = '../Liver_diseases/liver_model.pkl'\n",
    "lung = '../lung cancer/lung_model.pkl'\n",
    "kidney = '../kidney/kidney_model1.pkl'"
   ]
  },
  {
   "cell_type": "code",
   "execution_count": 33,
   "metadata": {},
   "outputs": [],
   "source": [
    "diabetes_model = pickle.load(open(diabetes, 'rb'))\n",
    "liver_model = pickle.load(open(liver, 'rb'))\n",
    "lung_model = pickle.load(open(lung, 'rb'))\n",
    "kidney_model = pickle.load(open(kidney, 'rb'))"
   ]
  },
  {
   "cell_type": "markdown",
   "metadata": {},
   "source": [
    "# Diabetes"
   ]
  },
  {
   "cell_type": "code",
   "execution_count": 14,
   "metadata": {},
   "outputs": [],
   "source": [
    "Pregnancies = 3\n",
    "Glucose = 145\n",
    "BloodPressure = 90\n",
    "SkinThickness = 30\n",
    "Insulin = 120\n",
    "BMI = 34\n",
    "DiabetesPedigreeFunction = 0.7\n",
    "Age = 40\n",
    "\n",
    "diabetes_prediction = diabetes_model.predict(np.array([Pregnancies, Glucose, BloodPressure, SkinThickness, Insulin, BMI, DiabetesPedigreeFunction, Age]\n",
    "                                                     ).reshape(1, -1))"
   ]
  },
  {
   "cell_type": "code",
   "execution_count": 15,
   "metadata": {},
   "outputs": [
    {
     "data": {
      "text/plain": [
       "array([1], dtype=int64)"
      ]
     },
     "execution_count": 15,
     "metadata": {},
     "output_type": "execute_result"
    }
   ],
   "source": [
    "diabetes_prediction"
   ]
  },
  {
   "cell_type": "markdown",
   "metadata": {},
   "source": [
    "# Liver"
   ]
  },
  {
   "cell_type": "code",
   "execution_count": 21,
   "metadata": {},
   "outputs": [],
   "source": [
    "[Age=40,Gender=1,Total_Bilirubin=10,Direct_Bilirubin=5,Alkaline_Phosphotase=700,Alamine_Aminotransferase=60,Aspartate_Aminotransferase=100,Total_Protiens=8,Albumin=3,Albumin_and_Globulin_Ratio=0.7]\n",
    "                                 \n",
    "X = scaler.fit_transform(np.array([40,1,10,5,700,60,100,8,3,0.7]).reshape(1, -1))\n",
    "\n",
    "liver_preds = liver_model.predict(X)"
   ]
  },
  {
   "cell_type": "code",
   "execution_count": 22,
   "metadata": {},
   "outputs": [
    {
     "data": {
      "text/plain": [
       "array([1], dtype=int64)"
      ]
     },
     "execution_count": 22,
     "metadata": {},
     "output_type": "execute_result"
    }
   ],
   "source": [
    "liver_preds"
   ]
  },
  {
   "cell_type": "markdown",
   "metadata": {},
   "source": [
    "# Lung"
   ]
  },
  {
   "cell_type": "code",
   "execution_count": 24,
   "metadata": {},
   "outputs": [],
   "source": [
    "# Air Pollution, Alcohol use,Dust Allergy,OccuPational Hazards,Genetic Risk,chronic Lung Disease,Balanced Diet,Obesity,Smoking,Passive Smoker,Chest Pain,Coughing of Blood,Fatigue\n",
    "\n",
    "y = scaler.fit_transform(np.array([2,4,5,4,3,2,2,4,3,2,2,3,3]).reshape(1, -1))\n",
    "\n",
    "lung_preds = lung_model.predict(y)"
   ]
  },
  {
   "cell_type": "code",
   "execution_count": 26,
   "metadata": {},
   "outputs": [
    {
     "data": {
      "text/plain": [
       "'Medium'"
      ]
     },
     "execution_count": 26,
     "metadata": {},
     "output_type": "execute_result"
    }
   ],
   "source": [
    "lung_preds[0]"
   ]
  },
  {
   "cell_type": "markdown",
   "metadata": {},
   "source": [
    "# Kidney"
   ]
  },
  {
   "cell_type": "code",
   "execution_count": 35,
   "metadata": {},
   "outputs": [],
   "source": [
    "aa = ['age', 'bp','sg','al','su','bgr','bu', 'sc', 'sod','pot','hemo','pcv','wc', 'rc']\n",
    "\n",
    "z = scaler.fit_transform(np.array([48, 80,1,1,0,0,0,0,0,121, 30,1, 5 ,15,4,44,7800,5,1,1,0,1,0,0]).reshape(1, -1))\n",
    "\n",
    "kidney_preds = kidney_model.predict(z)"
   ]
  },
  {
   "cell_type": "code",
   "execution_count": 37,
   "metadata": {},
   "outputs": [
    {
     "data": {
      "text/plain": [
       "1"
      ]
     },
     "execution_count": 37,
     "metadata": {},
     "output_type": "execute_result"
    }
   ],
   "source": [
    "kidney_preds[0]"
   ]
  },
  {
   "cell_type": "markdown",
   "metadata": {},
   "source": []
  }
 ],
 "metadata": {
  "kernelspec": {
   "display_name": "Python 3",
   "language": "python",
   "name": "python3"
  },
  "language_info": {
   "codemirror_mode": {
    "name": "ipython",
    "version": 3
   },
   "file_extension": ".py",
   "mimetype": "text/x-python",
   "name": "python",
   "nbconvert_exporter": "python",
   "pygments_lexer": "ipython3",
   "version": "3.6.10"
  }
 },
 "nbformat": 4,
 "nbformat_minor": 4
}
